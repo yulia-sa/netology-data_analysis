{
 "cells": [
  {
   "cell_type": "code",
   "execution_count": 13,
   "metadata": {},
   "outputs": [],
   "source": [
    "import pandas as pd\n",
    "import os"
   ]
  },
  {
   "cell_type": "code",
   "execution_count": 14,
   "metadata": {},
   "outputs": [],
   "source": [
    "DATA_PATH = 'names/'"
   ]
  },
  {
   "cell_type": "code",
   "execution_count": 15,
   "metadata": {},
   "outputs": [],
   "source": [
    "# 1) С использованием Pandas написать функцию, которая загружает указанные года и выводит ТОП-3 популярных имен.\n",
    "\n",
    "def top3(years):\n",
    "    all_names = []\n",
    "    cols = ['Name','Gender','Count']\n",
    "\n",
    "    for year in years:\n",
    "        names = pd.read_csv(DATA_PATH + 'yob' + str(year) +'.txt', names=cols)\n",
    "        all_names.append(names)\n",
    "        \n",
    "    all_years_names = pd.concat(all_names, names=['Year', 'Pos'])    \n",
    "    all_years_names_unique = all_years_names.groupby('Name').sum()\n",
    "    top3_names = all_years_names_unique.sort_values(by='Count', ascending=False).head(3)\n",
    "    \n",
    "    print(top3_names)"
   ]
  },
  {
   "cell_type": "code",
   "execution_count": 16,
   "metadata": {},
   "outputs": [
    {
     "name": "stdout",
     "output_type": "stream",
     "text": [
      "         Count\n",
      "Name          \n",
      "John      9701\n",
      "William   9562\n",
      "Mary      7092\n"
     ]
    }
   ],
   "source": [
    "top3([1880])"
   ]
  },
  {
   "cell_type": "code",
   "execution_count": 17,
   "metadata": {},
   "outputs": [
    {
     "name": "stdout",
     "output_type": "stream",
     "text": [
      "         Count\n",
      "Name          \n",
      "James   111798\n",
      "John    109593\n",
      "Robert  101373\n"
     ]
    }
   ],
   "source": [
    "top3([1900, 1950, 2000])"
   ]
  },
  {
   "cell_type": "code",
   "execution_count": 18,
   "metadata": {},
   "outputs": [],
   "source": [
    "# 2) С использованием Pandas написать функцию, которая возвращает динамику изменения количества имен за указанные года в разрезе полов.\n",
    "\n",
    "def count_dynamics(years):\n",
    "    all_names_female = []\n",
    "    all_names_male = []\n",
    "    cols = ['Name','Gender','Count']\n",
    "\n",
    "    for year in years:\n",
    "        names = pd.read_csv(DATA_PATH + 'yob' + str(year) +'.txt', names=cols)\n",
    "        \n",
    "        all_names_female.append(names[names.Gender == 'F'].Count.sum())\n",
    "        all_names_male.append(names[names.Gender == 'M'].Count.sum())\n",
    "\n",
    "    print(\"'F:' {} and 'M:' {} \".format(all_names_female, all_names_male))"
   ]
  },
  {
   "cell_type": "code",
   "execution_count": 19,
   "metadata": {},
   "outputs": [
    {
     "name": "stdout",
     "output_type": "stream",
     "text": [
      "'F:' [299800, 1713151, 1815110] and 'M:' [150483, 1790549, 1962969] \n"
     ]
    }
   ],
   "source": [
    "count_dynamics([1900, 1950, 2000])"
   ]
  }
 ],
 "metadata": {
  "kernelspec": {
   "display_name": "Python 3",
   "language": "python",
   "name": "python3"
  },
  "language_info": {
   "codemirror_mode": {
    "name": "ipython",
    "version": 3
   },
   "file_extension": ".py",
   "mimetype": "text/x-python",
   "name": "python",
   "nbconvert_exporter": "python",
   "pygments_lexer": "ipython3",
   "version": "3.7.3"
  }
 },
 "nbformat": 4,
 "nbformat_minor": 2
}
